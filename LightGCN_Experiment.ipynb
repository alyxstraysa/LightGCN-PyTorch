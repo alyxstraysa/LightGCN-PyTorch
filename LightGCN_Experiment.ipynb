{
  "nbformat": 4,
  "nbformat_minor": 0,
  "metadata": {
    "colab": {
      "name": "LightGCN Experiment",
      "provenance": [],
      "collapsed_sections": [],
      "authorship_tag": "ABX9TyPmZZ/tcEAuXKnBbFctB9/F",
      "include_colab_link": true
    },
    "kernelspec": {
      "name": "python3",
      "display_name": "Python 3"
    },
    "accelerator": "GPU"
  },
  "cells": [
    {
      "cell_type": "markdown",
      "metadata": {
        "id": "view-in-github",
        "colab_type": "text"
      },
      "source": [
        "<a href=\"https://colab.research.google.com/github/alyxstraysa/LightGCN-PyTorch/blob/master/LightGCN_Experiment.ipynb\" target=\"_parent\"><img src=\"https://colab.research.google.com/assets/colab-badge.svg\" alt=\"Open In Colab\"/></a>"
      ]
    },
    {
      "cell_type": "code",
      "metadata": {
        "colab": {
          "base_uri": "https://localhost:8080/"
        },
        "id": "UFlV1rhIExxB",
        "outputId": "e1e4608d-6bc5-473d-d2d7-6209867d10e9"
      },
      "source": [
        "! git clone https://github.com/alyxstraysa/LightGCN-PyTorch"
      ],
      "execution_count": 1,
      "outputs": [
        {
          "output_type": "stream",
          "text": [
            "Cloning into 'LightGCN-PyTorch'...\n",
            "remote: Enumerating objects: 44, done.\u001b[K\n",
            "remote: Counting objects: 100% (44/44), done.\u001b[K\n",
            "remote: Compressing objects: 100% (34/34), done.\u001b[K\n",
            "remote: Total 521 (delta 21), reused 22 (delta 9), pack-reused 477\u001b[K\n",
            "Receiving objects: 100% (521/521), 80.21 MiB | 35.66 MiB/s, done.\n",
            "Resolving deltas: 100% (306/306), done.\n"
          ],
          "name": "stdout"
        }
      ]
    },
    {
      "cell_type": "code",
      "metadata": {
        "colab": {
          "base_uri": "https://localhost:8080/"
        },
        "id": "86Fln3WqVxLF",
        "outputId": "a34fe50d-1c09-4256-cae1-5cc96b03e8ed"
      },
      "source": [
        "%tensorflow_version 2.x\n",
        "import tensorflow as tf\n",
        "device_name = tf.test.gpu_device_name()\n",
        "if device_name != '/device:GPU:0':\n",
        "  raise SystemError('GPU device not found')\n",
        "print('Found GPU at: {}'.format(device_name))"
      ],
      "execution_count": null,
      "outputs": [
        {
          "output_type": "stream",
          "text": [
            "Found GPU at: /device:GPU:0\n"
          ],
          "name": "stdout"
        }
      ]
    },
    {
      "cell_type": "code",
      "metadata": {
        "colab": {
          "base_uri": "https://localhost:8080/"
        },
        "id": "50mWdas-auqw",
        "outputId": "b914be4b-f4f8-4c88-ee31-13099bead445"
      },
      "source": [
        "cd /content/LightGCN-PyTorch"
      ],
      "execution_count": null,
      "outputs": [
        {
          "output_type": "stream",
          "text": [
            "/content/LightGCN-PyTorch\n"
          ],
          "name": "stdout"
        }
      ]
    },
    {
      "cell_type": "code",
      "metadata": {
        "colab": {
          "base_uri": "https://localhost:8080/",
          "height": 1000
        },
        "id": "bLd9ON1ZayFt",
        "outputId": "6f959bd5-8551-4f61-8f05-c9d1134b9b62"
      },
      "source": [
        "pip install -r requirements.txt"
      ],
      "execution_count": null,
      "outputs": [
        {
          "output_type": "stream",
          "text": [
            "Collecting torch==1.4.0\n",
            "\u001b[?25l  Downloading https://files.pythonhosted.org/packages/24/19/4804aea17cd136f1705a5e98a00618cb8f6ccc375ad8bfa437408e09d058/torch-1.4.0-cp36-cp36m-manylinux1_x86_64.whl (753.4MB)\n",
            "\u001b[K     |████████████████████████████████| 753.4MB 21kB/s \n",
            "\u001b[?25hCollecting pandas==0.24.2\n",
            "\u001b[?25l  Downloading https://files.pythonhosted.org/packages/19/74/e50234bc82c553fecdbd566d8650801e3fe2d6d8c8d940638e3d8a7c5522/pandas-0.24.2-cp36-cp36m-manylinux1_x86_64.whl (10.1MB)\n",
            "\u001b[K     |████████████████████████████████| 10.1MB 45.6MB/s \n",
            "\u001b[?25hCollecting scipy==1.3.0\n",
            "\u001b[?25l  Downloading https://files.pythonhosted.org/packages/72/4c/5f81e7264b0a7a8bd570810f48cd346ba36faedbd2ba255c873ad556de76/scipy-1.3.0-cp36-cp36m-manylinux1_x86_64.whl (25.2MB)\n",
            "\u001b[K     |████████████████████████████████| 25.2MB 138kB/s \n",
            "\u001b[?25hCollecting numpy==1.16.4\n",
            "\u001b[?25l  Downloading https://files.pythonhosted.org/packages/87/2d/e4656149cbadd3a8a0369fcd1a9c7d61cc7b87b3903b85389c70c989a696/numpy-1.16.4-cp36-cp36m-manylinux1_x86_64.whl (17.3MB)\n",
            "\u001b[K     |████████████████████████████████| 17.3MB 208kB/s \n",
            "\u001b[?25hCollecting tensorboardX==1.8\n",
            "\u001b[?25l  Downloading https://files.pythonhosted.org/packages/c3/12/dcaf67e1312475b26db9e45e7bb6f32b540671a9ee120b3a72d9e09bc517/tensorboardX-1.8-py2.py3-none-any.whl (216kB)\n",
            "\u001b[K     |████████████████████████████████| 225kB 61.3MB/s \n",
            "\u001b[?25hCollecting scikit-learn==0.23.2\n",
            "\u001b[?25l  Downloading https://files.pythonhosted.org/packages/5c/a1/273def87037a7fb010512bbc5901c31cfddfca8080bc63b42b26e3cc55b3/scikit_learn-0.23.2-cp36-cp36m-manylinux1_x86_64.whl (6.8MB)\n",
            "\u001b[K     |████████████████████████████████| 6.8MB 45.2MB/s \n",
            "\u001b[?25hCollecting tqdm==4.48.2\n",
            "\u001b[?25l  Downloading https://files.pythonhosted.org/packages/28/7e/281edb5bc3274dfb894d90f4dbacfceaca381c2435ec6187a2c6f329aed7/tqdm-4.48.2-py2.py3-none-any.whl (68kB)\n",
            "\u001b[K     |████████████████████████████████| 71kB 11.8MB/s \n",
            "\u001b[?25hRequirement already satisfied: python-dateutil>=2.5.0 in /usr/local/lib/python3.6/dist-packages (from pandas==0.24.2->-r requirements.txt (line 2)) (2.8.1)\n",
            "Requirement already satisfied: pytz>=2011k in /usr/local/lib/python3.6/dist-packages (from pandas==0.24.2->-r requirements.txt (line 2)) (2018.9)\n",
            "Requirement already satisfied: protobuf>=3.2.0 in /usr/local/lib/python3.6/dist-packages (from tensorboardX==1.8->-r requirements.txt (line 5)) (3.12.4)\n",
            "Requirement already satisfied: six in /usr/local/lib/python3.6/dist-packages (from tensorboardX==1.8->-r requirements.txt (line 5)) (1.15.0)\n",
            "Collecting threadpoolctl>=2.0.0\n",
            "  Downloading https://files.pythonhosted.org/packages/f7/12/ec3f2e203afa394a149911729357aa48affc59c20e2c1c8297a60f33f133/threadpoolctl-2.1.0-py3-none-any.whl\n",
            "Requirement already satisfied: joblib>=0.11 in /usr/local/lib/python3.6/dist-packages (from scikit-learn==0.23.2->-r requirements.txt (line 6)) (0.17.0)\n",
            "Requirement already satisfied: setuptools in /usr/local/lib/python3.6/dist-packages (from protobuf>=3.2.0->tensorboardX==1.8->-r requirements.txt (line 5)) (50.3.2)\n",
            "\u001b[31mERROR: xarray 0.15.1 has requirement pandas>=0.25, but you'll have pandas 0.24.2 which is incompatible.\u001b[0m\n",
            "\u001b[31mERROR: umap-learn 0.4.6 has requirement numpy>=1.17, but you'll have numpy 1.16.4 which is incompatible.\u001b[0m\n",
            "\u001b[31mERROR: umap-learn 0.4.6 has requirement scipy>=1.3.1, but you'll have scipy 1.3.0 which is incompatible.\u001b[0m\n",
            "\u001b[31mERROR: torchvision 0.8.1+cu101 has requirement torch==1.7.0, but you'll have torch 1.4.0 which is incompatible.\u001b[0m\n",
            "\u001b[31mERROR: tensorflow 2.3.0 has requirement scipy==1.4.1, but you'll have scipy 1.3.0 which is incompatible.\u001b[0m\n",
            "\u001b[31mERROR: plotnine 0.6.0 has requirement pandas>=0.25.0, but you'll have pandas 0.24.2 which is incompatible.\u001b[0m\n",
            "\u001b[31mERROR: mizani 0.6.0 has requirement pandas>=0.25.0, but you'll have pandas 0.24.2 which is incompatible.\u001b[0m\n",
            "\u001b[31mERROR: google-colab 1.0.0 has requirement pandas~=1.1.0; python_version >= \"3.0\", but you'll have pandas 0.24.2 which is incompatible.\u001b[0m\n",
            "\u001b[31mERROR: fbprophet 0.7.1 has requirement pandas>=1.0.4, but you'll have pandas 0.24.2 which is incompatible.\u001b[0m\n",
            "\u001b[31mERROR: datascience 0.10.6 has requirement folium==0.2.1, but you'll have folium 0.8.3 which is incompatible.\u001b[0m\n",
            "\u001b[31mERROR: albumentations 0.1.12 has requirement imgaug<0.2.7,>=0.2.5, but you'll have imgaug 0.2.9 which is incompatible.\u001b[0m\n",
            "Installing collected packages: torch, numpy, pandas, scipy, tensorboardX, threadpoolctl, scikit-learn, tqdm\n",
            "  Found existing installation: torch 1.7.0+cu101\n",
            "    Uninstalling torch-1.7.0+cu101:\n",
            "      Successfully uninstalled torch-1.7.0+cu101\n",
            "  Found existing installation: numpy 1.18.5\n",
            "    Uninstalling numpy-1.18.5:\n",
            "      Successfully uninstalled numpy-1.18.5\n",
            "  Found existing installation: pandas 1.1.4\n",
            "    Uninstalling pandas-1.1.4:\n",
            "      Successfully uninstalled pandas-1.1.4\n",
            "  Found existing installation: scipy 1.4.1\n",
            "    Uninstalling scipy-1.4.1:\n",
            "      Successfully uninstalled scipy-1.4.1\n",
            "  Found existing installation: scikit-learn 0.22.2.post1\n",
            "    Uninstalling scikit-learn-0.22.2.post1:\n",
            "      Successfully uninstalled scikit-learn-0.22.2.post1\n",
            "  Found existing installation: tqdm 4.41.1\n",
            "    Uninstalling tqdm-4.41.1:\n",
            "      Successfully uninstalled tqdm-4.41.1\n",
            "Successfully installed numpy-1.16.4 pandas-0.24.2 scikit-learn-0.23.2 scipy-1.3.0 tensorboardX-1.8 threadpoolctl-2.1.0 torch-1.4.0 tqdm-4.48.2\n"
          ],
          "name": "stdout"
        },
        {
          "output_type": "display_data",
          "data": {
            "application/vnd.colab-display-data+json": {
              "pip_warning": {
                "packages": [
                  "numpy",
                  "pandas",
                  "scipy"
                ]
              }
            }
          },
          "metadata": {
            "tags": []
          }
        }
      ]
    },
    {
      "cell_type": "code",
      "metadata": {
        "colab": {
          "base_uri": "https://localhost:8080/"
        },
        "id": "Dycqn8rwE8eD",
        "outputId": "99525c51-1675-4d73-b961-6e008fdeec21"
      },
      "source": [
        "cd /content/LightGCN-PyTorch/code/"
      ],
      "execution_count": null,
      "outputs": [
        {
          "output_type": "stream",
          "text": [
            "/content/LightGCN-PyTorch/code\n"
          ],
          "name": "stdout"
        }
      ]
    },
    {
      "cell_type": "code",
      "metadata": {
        "id": "1Nhg7e3xFvTF"
      },
      "source": [
        "#/content/LightGCN-PyTorch"
      ],
      "execution_count": null,
      "outputs": []
    },
    {
      "cell_type": "code",
      "metadata": {
        "colab": {
          "base_uri": "https://localhost:8080/"
        },
        "id": "rJJHFigXFclq",
        "outputId": "4ace5ef0-7f2d-41e4-99eb-7886328799e3"
      },
      "source": [
        "! python main.py --decay=1e-4 --lr=0.001 --layer=3 --seed=2020 --epochs 100 --dataset=\"gowalla\" --topks=\"[20]\" --recdim=64"
      ],
      "execution_count": null,
      "outputs": [
        {
          "output_type": "stream",
          "text": [
            "\u001b[0;30;43mCpp extension not loaded\u001b[0m\n",
            ">>SEED: 2020\n",
            "\u001b[0;30;43mloading [../data/gowalla]\u001b[0m\n",
            "810128 interactions for training\n",
            "217242 interactions for testing\n",
            "gowalla Sparsity : 0.0008396216228570436\n",
            "gowalla is ready to go\n",
            "===========config================\n",
            "{'A_n_fold': 100,\n",
            " 'A_split': False,\n",
            " 'bigdata': False,\n",
            " 'bpr_batch_size': 2048,\n",
            " 'decay': 0.0001,\n",
            " 'dropout': 0,\n",
            " 'keep_prob': 0.6,\n",
            " 'latent_dim_rec': 64,\n",
            " 'lightGCN_n_layers': 3,\n",
            " 'lr': 0.001,\n",
            " 'multicore': 0,\n",
            " 'pretrain': 0,\n",
            " 'test_u_batch_size': 100}\n",
            "cores for test: 1\n",
            "comment: lgn\n",
            "tensorboard: 1\n",
            "LOAD: 0\n",
            "Weight path: ./checkpoints\n",
            "Test Topks: [20]\n",
            "using bpr loss\n",
            "===========end===================\n",
            "\u001b[0;30;43muse NORMAL distribution initilizer\u001b[0m\n",
            "loading adjacency matrix\n",
            "successfully loaded...\n",
            "don't split the matrix\n",
            "lgn is already to go(dropout:0)\n",
            "load and save to /Users/gus/Desktop/light-gcn/code/checkpoints/lgn-gowalla-3-64.pth.tar\n",
            "\u001b[0;30;43m[TEST]\u001b[0m\n",
            "{'precision': array([0.00018755]), 'recall': array([0.00053749]), 'ndcg': array([0.00040829])}\n",
            "EPOCH[1/100] loss0.545-|Sample:6.58|\n",
            "EPOCH[2/100] loss0.240-|Sample:7.30|\n",
            "EPOCH[3/100] loss0.163-|Sample:7.13|\n",
            "EPOCH[4/100] loss0.131-|Sample:7.14|\n",
            "EPOCH[5/100] loss0.112-|Sample:7.07|\n",
            "EPOCH[6/100] loss0.099-|Sample:7.00|\n",
            "EPOCH[7/100] loss0.090-|Sample:7.10|\n",
            "EPOCH[8/100] loss0.084-|Sample:6.94|\n",
            "EPOCH[9/100] loss0.078-|Sample:7.04|\n",
            "EPOCH[10/100] loss0.074-|Sample:6.95|\n",
            "\u001b[0;30;43m[TEST]\u001b[0m\n",
            "{'precision': array([0.03667024]), 'recall': array([0.12013993]), 'ndcg': array([0.10055136])}\n",
            "EPOCH[11/100] loss0.071-|Sample:6.96|\n",
            "EPOCH[12/100] loss0.068-|Sample:7.08|\n",
            "EPOCH[13/100] loss0.065-|Sample:6.90|\n",
            "EPOCH[14/100] loss0.064-|Sample:6.85|\n",
            "EPOCH[15/100] loss0.061-|Sample:6.94|\n",
            "EPOCH[16/100] loss0.059-|Sample:6.99|\n",
            "EPOCH[17/100] loss0.057-|Sample:6.84|\n",
            "EPOCH[18/100] loss0.055-|Sample:7.09|\n",
            "EPOCH[19/100] loss0.054-|Sample:6.94|\n",
            "EPOCH[20/100] loss0.052-|Sample:6.90|\n",
            "\u001b[0;30;43m[TEST]\u001b[0m\n",
            "{'precision': array([0.03967446]), 'recall': array([0.13133384]), 'ndcg': array([0.1088302])}\n",
            "EPOCH[21/100] loss0.052-|Sample:7.00|\n",
            "EPOCH[22/100] loss0.050-|Sample:6.90|\n",
            "EPOCH[23/100] loss0.049-|Sample:6.88|\n",
            "EPOCH[24/100] loss0.048-|Sample:6.99|\n",
            "EPOCH[25/100] loss0.047-|Sample:7.07|\n",
            "EPOCH[26/100] loss0.046-|Sample:6.98|\n",
            "EPOCH[27/100] loss0.045-|Sample:7.09|\n",
            "EPOCH[28/100] loss0.044-|Sample:7.06|\n",
            "EPOCH[29/100] loss0.043-|Sample:7.11|\n",
            "EPOCH[30/100] loss0.042-|Sample:7.06|\n",
            "\u001b[0;30;43m[TEST]\u001b[0m\n",
            "{'precision': array([0.0419787]), 'recall': array([0.13920676]), 'ndcg': array([0.11538014])}\n",
            "EPOCH[31/100] loss0.042-|Sample:7.19|\n",
            "EPOCH[32/100] loss0.041-|Sample:7.17|\n",
            "EPOCH[33/100] loss0.040-|Sample:7.13|\n",
            "EPOCH[34/100] loss0.039-|Sample:7.21|\n",
            "EPOCH[35/100] loss0.039-|Sample:7.17|\n",
            "EPOCH[36/100] loss0.038-|Sample:7.15|\n",
            "EPOCH[37/100] loss0.037-|Sample:7.28|\n",
            "EPOCH[38/100] loss0.037-|Sample:7.04|\n",
            "EPOCH[39/100] loss0.036-|Sample:6.99|\n",
            "EPOCH[40/100] loss0.036-|Sample:7.08|\n",
            "\u001b[0;30;43m[TEST]\u001b[0m\n",
            "{'precision': array([0.04348751]), 'recall': array([0.14436693]), 'ndcg': array([0.12010255])}\n",
            "EPOCH[41/100] loss0.035-|Sample:7.01|\n",
            "EPOCH[42/100] loss0.035-|Sample:7.02|\n",
            "EPOCH[43/100] loss0.034-|Sample:7.04|\n",
            "EPOCH[44/100] loss0.034-|Sample:7.09|\n",
            "EPOCH[45/100] loss0.033-|Sample:6.97|\n",
            "EPOCH[46/100] loss0.033-|Sample:7.00|\n",
            "EPOCH[47/100] loss0.032-|Sample:7.02|\n",
            "EPOCH[48/100] loss0.032-|Sample:6.95|\n",
            "EPOCH[49/100] loss0.032-|Sample:7.11|\n",
            "EPOCH[50/100] loss0.031-|Sample:7.01|\n",
            "\u001b[0;30;43m[TEST]\u001b[0m\n",
            "{'precision': array([0.0447535]), 'recall': array([0.14868784]), 'ndcg': array([0.12388066])}\n",
            "EPOCH[51/100] loss0.031-|Sample:7.01|\n",
            "EPOCH[52/100] loss0.030-|Sample:7.07|\n",
            "EPOCH[53/100] loss0.030-|Sample:7.10|\n",
            "EPOCH[54/100] loss0.030-|Sample:6.94|\n",
            "EPOCH[55/100] loss0.030-|Sample:6.96|\n",
            "EPOCH[56/100] loss0.029-|Sample:7.23|\n",
            "EPOCH[57/100] loss0.030-|Sample:7.07|\n",
            "EPOCH[58/100] loss0.028-|Sample:7.18|\n",
            "EPOCH[59/100] loss0.029-|Sample:7.09|\n",
            "EPOCH[60/100] loss0.028-|Sample:7.06|\n",
            "\u001b[0;30;43m[TEST]\u001b[0m\n",
            "{'precision': array([0.04583696]), 'recall': array([0.15272791]), 'ndcg': array([0.12775741])}\n",
            "EPOCH[61/100] loss0.028-|Sample:7.07|\n",
            "EPOCH[62/100] loss0.028-|Sample:7.07|\n",
            "EPOCH[63/100] loss0.027-|Sample:7.08|\n",
            "EPOCH[64/100] loss0.027-|Sample:7.03|\n",
            "EPOCH[65/100] loss0.027-|Sample:7.09|\n",
            "EPOCH[66/100] loss0.027-|Sample:7.05|\n",
            "EPOCH[67/100] loss0.026-|Sample:7.06|\n",
            "EPOCH[68/100] loss0.026-|Sample:7.06|\n",
            "EPOCH[69/100] loss0.026-|Sample:7.11|\n",
            "EPOCH[70/100] loss0.026-|Sample:7.11|\n",
            "\u001b[0;30;43m[TEST]\u001b[0m\n",
            "{'precision': array([0.04666254]), 'recall': array([0.1553815]), 'ndcg': array([0.13008348])}\n",
            "EPOCH[71/100] loss0.026-|Sample:7.13|\n",
            "EPOCH[72/100] loss0.025-|Sample:7.22|\n",
            "EPOCH[73/100] loss0.025-|Sample:7.11|\n",
            "EPOCH[74/100] loss0.025-|Sample:7.05|\n",
            "EPOCH[75/100] loss0.024-|Sample:7.25|\n",
            "EPOCH[76/100] loss0.024-|Sample:7.14|\n",
            "EPOCH[77/100] loss0.024-|Sample:7.10|\n",
            "EPOCH[78/100] loss0.023-|Sample:7.29|\n",
            "EPOCH[79/100] loss0.023-|Sample:7.14|\n",
            "EPOCH[80/100] loss0.023-|Sample:7.12|\n",
            "\u001b[0;30;43m[TEST]\u001b[0m\n",
            "{'precision': array([0.04764385]), 'recall': array([0.1588197]), 'ndcg': array([0.13290281])}\n",
            "EPOCH[81/100] loss0.023-|Sample:7.15|\n",
            "EPOCH[82/100] loss0.023-|Sample:7.11|\n",
            "EPOCH[83/100] loss0.023-|Sample:7.08|\n",
            "EPOCH[84/100] loss0.023-|Sample:7.21|\n",
            "EPOCH[85/100] loss0.023-|Sample:7.16|\n",
            "EPOCH[86/100] loss0.022-|Sample:7.00|\n",
            "EPOCH[87/100] loss0.022-|Sample:7.18|\n",
            "EPOCH[88/100] loss0.022-|Sample:7.15|\n",
            "EPOCH[89/100] loss0.022-|Sample:7.19|\n",
            "EPOCH[90/100] loss0.022-|Sample:7.08|\n",
            "\u001b[0;30;43m[TEST]\u001b[0m\n",
            "{'precision': array([0.04831368]), 'recall': array([0.16129019]), 'ndcg': array([0.13482904])}\n",
            "EPOCH[91/100] loss0.022-|Sample:7.14|\n",
            "EPOCH[92/100] loss0.021-|Sample:7.17|\n",
            "EPOCH[93/100] loss0.021-|Sample:7.19|\n",
            "EPOCH[94/100] loss0.021-|Sample:7.18|\n",
            "EPOCH[95/100] loss0.021-|Sample:7.19|\n",
            "EPOCH[96/100] loss0.021-|Sample:7.20|\n",
            "EPOCH[97/100] loss0.021-|Sample:7.26|\n",
            "EPOCH[98/100] loss0.021-|Sample:7.14|\n",
            "EPOCH[99/100] loss0.021-|Sample:7.15|\n",
            "EPOCH[100/100] loss0.021-|Sample:7.18|\n"
          ],
          "name": "stdout"
        }
      ]
    }
  ]
}